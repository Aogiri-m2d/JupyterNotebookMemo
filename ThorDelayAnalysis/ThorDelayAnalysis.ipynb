{
 "cells": [
  {
   "cell_type": "markdown",
   "metadata": {},
   "source": [
    "# ThorDelayAnalysis\n",
    "---\n",
    "\n",
    "## Common delay I/O\n",
    "\\begin{equation}\n",
    "    \\displaystyle y(n) = \\sum_{m = 0}^{M} a^{m} x(n - md)\n",
    "\\end{equation}\n",
    "\n",
    "## Thor's delay\n",
    "![DelayPanel](Fig\\DelayPanel)\n",
    "### Parameters\n",
    "|Name|Unit|Min val|Max val|\n",
    "|:--:|:--:|:--:|:--:|\n",
    "|TIME|Hz|0|1000|\n",
    "|F.BACK|-|0|127|\n",
    "|RATE|Hz|0.14|18.2|\n",
    "|AMT|-|0|127|\n",
    "|D.WET|-|0|127|\n",
    "\n",
    "## Rec IR\n",
    "### Conditions\n",
    "InputSignal: Impulse Train (freq. 1 Hz, fs 48 kHz, bit 16, len 10 sec, Mono)  \n",
    "OutSignal: Input(Mono) -> Thor Filter3 (L & R) -> Thor Delay -> Out (Stereo)\n",
    "\n",
    "#### Looting\n",
    "![BackPanel](Fig\\BackPanel)\n",
    "![Looting](Fig\\Looting)\n",
    "\n",
    "#### Rec IRs\n",
    "![InpulseRec](Fig\\InpulseRec)\n",
    "\n",
    "### Analysis of \"TIME\" parameter dependence\n",
    "|Entry|TIME|F.BACK|RATE|AMT|D.WET|\n",
    "|:--:|:--:|:--:|:--:|:--:|:--:|\n",
    "|T_1|0|0|0.14|0|127|\n",
    "|T_2|197|0|0.14|0|127|\n",
    "|T_3|402|0|0.14|0|127|\n",
    "|T_4|606|0|0.14|0|127|\n",
    "|T_5|803|0|0.14|0|127|\n",
    "\n",
    "#### Convert TIME [msec] to [sample]"
   ]
  },
  {
   "cell_type": "code",
   "execution_count": 1,
   "metadata": {
    "collapsed": false
   },
   "outputs": [
    {
     "data": {
      "text/html": [
       "<div>\n",
       "<style>\n",
       "    .dataframe thead tr:only-child th {\n",
       "        text-align: right;\n",
       "    }\n",
       "\n",
       "    .dataframe thead th {\n",
       "        text-align: left;\n",
       "    }\n",
       "\n",
       "    .dataframe tbody tr th {\n",
       "        vertical-align: top;\n",
       "    }\n",
       "</style>\n",
       "<table border=\"1\" class=\"dataframe\">\n",
       "  <thead>\n",
       "    <tr style=\"text-align: right;\">\n",
       "      <th></th>\n",
       "      <th>msec</th>\n",
       "      <th>sample</th>\n",
       "    </tr>\n",
       "  </thead>\n",
       "  <tbody>\n",
       "    <tr>\n",
       "      <th>T_1</th>\n",
       "      <td>0</td>\n",
       "      <td>0.0</td>\n",
       "    </tr>\n",
       "    <tr>\n",
       "      <th>T_2</th>\n",
       "      <td>197</td>\n",
       "      <td>9456.0</td>\n",
       "    </tr>\n",
       "    <tr>\n",
       "      <th>T_3</th>\n",
       "      <td>402</td>\n",
       "      <td>19296.0</td>\n",
       "    </tr>\n",
       "    <tr>\n",
       "      <th>T_4</th>\n",
       "      <td>606</td>\n",
       "      <td>29088.0</td>\n",
       "    </tr>\n",
       "    <tr>\n",
       "      <th>T_5</th>\n",
       "      <td>803</td>\n",
       "      <td>38544.0</td>\n",
       "    </tr>\n",
       "  </tbody>\n",
       "</table>\n",
       "</div>"
      ],
      "text/plain": [
       "     msec   sample\n",
       "T_1     0      0.0\n",
       "T_2   197   9456.0\n",
       "T_3   402  19296.0\n",
       "T_4   606  29088.0\n",
       "T_5   803  38544.0"
      ]
     },
     "execution_count": 1,
     "metadata": {},
     "output_type": "execute_result"
    }
   ],
   "source": [
    "import pandas as pd\n",
    "\n",
    "def msec_to_sample_fs48kHz(t_msec):\n",
    "    return t_msec / 1000.0 * 48000\n",
    "\n",
    "T_msec = [0, 197, 402, 606, 803]\n",
    "T_samp = [msec_to_sample_fs48kHz(x) for x in T_msec]\n",
    "\n",
    "index_label = [\"T_1\", \"T_2\", \"T_3\", \"T_4\", \"T_5\"]\n",
    "df = pd.DataFrame({\"msec\": T_msec, \"sample\": T_samp}, index = index_label)\n",
    "\n",
    "df"
   ]
  },
  {
   "cell_type": "markdown",
   "metadata": {},
   "source": [
    "#### Data plot"
   ]
  },
  {
   "cell_type": "code",
   "execution_count": 2,
   "metadata": {
    "collapsed": false
   },
   "outputs": [
    {
     "data": {
      "image/png": "[encoded data removed]",
      "text/plain": [
       "<matplotlib.figure.Figure at 0x1f9b01bcba8>"
      ]
     },
     "metadata": {},
     "output_type": "display_data"
    }
   ],
   "source": [
    "import numpy as np\n",
    "import matplotlib.pyplot as plt\n",
    "import soundfile as sf\n",
    "%matplotlib inline\n",
    "\n",
    "input_inpulse, _ = sf.read(\"ImpulseTrain_fs48kHz_p1sec_len10sec.wav\")\n",
    "T_1, _ = sf.read(\"IR\\T_1.wav\")\n",
    "T_2, _ = sf.read(\"IR\\T_2.wav\")\n",
    "T_3, _ = sf.read(\"IR\\T_3.wav\")\n",
    "T_4, _ = sf.read(\"IR\\T_4.wav\")\n",
    "T_5, _ = sf.read(\"IR\\T_5.wav\")\n",
    "\n",
    "plt.figure(figsize = (16, 12))\n",
    "plt.plot(range(input_inpulse.size), input_inpulse, label = \"Input\")\n",
    "plt.plot(range(T_1[:, 0].size), T_1[:, 0], label = \"T_1\")\n",
    "plt.plot(range(T_2[:, 0].size), T_2[:, 0], label = \"T_2\")\n",
    "plt.plot(range(T_3[:, 0].size), T_3[:, 0], label = \"T_3\")\n",
    "plt.plot(range(T_4[:, 0].size), T_4[:, 0], label = \"T_4\")\n",
    "plt.plot(range(T_5[:, 0].size), T_5[:, 0], label = \"T_5\")\n",
    "plt.xlim(-48000, 48000 * 10)\n",
    "plt.legend()\n",
    "plt.show()"
   ]
  }
 ],
 "metadata": {
  "kernelspec": {
   "display_name": "Python 3",
   "language": "python",
   "name": "python3"
  },
  "language_info": {
   "codemirror_mode": {
    "name": "ipython",
    "version": 3
   },
   "file_extension": ".py",
   "mimetype": "text/x-python",
   "name": "python",
   "nbconvert_exporter": "python",
   "pygments_lexer": "ipython3",
   "version": "3.6.0"
  }
 },
 "nbformat": 4,
 "nbformat_minor": 2
}
