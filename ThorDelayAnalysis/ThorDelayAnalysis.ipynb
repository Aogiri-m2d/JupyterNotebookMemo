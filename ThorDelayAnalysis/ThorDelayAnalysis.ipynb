{
 "cells": [
  {
   "cell_type": "markdown",
   "metadata": {},
   "source": [
    "# ThorDelayAnalysis\n",
    "---"
   ]
  },
  {
   "cell_type": "markdown",
   "metadata": {},
   "source": [
    "## Common delay I/O\n",
    "---\n",
    "\\begin{equation}\n",
    "    \\displaystyle y(n) = \\sum_{m = 0}^{M} a^{m} x(n - md)\n",
    "\\end{equation}"
   ]
  },
  {
   "cell_type": "markdown",
   "metadata": {},
   "source": [
    "## Thor's delay\n",
    "---\n",
    "### Parameters\n",
    "![DelayPanel](Fig\\DelayPanel)\n",
    "\n",
    "|Name|Unit|Min val|Max val|\n",
    "|:--:|:--:|:--:|:--:|\n",
    "|TIME|ms|0|1000|\n",
    "|F.BACK|-|0|127|\n",
    "|RATE|Hz|0.14|18.2|\n",
    "|AMT|-|0|127|\n",
    "|D.WET|-|0|127|"
   ]
  },
  {
   "cell_type": "markdown",
   "metadata": {},
   "source": [
    "## Rec IR\n",
    "---"
   ]
  },
  {
   "cell_type": "markdown",
   "metadata": {},
   "source": [
    "### Create input inpulse train"
   ]
  },
  {
   "cell_type": "code",
   "execution_count": 1,
   "metadata": {
    "collapsed": false
   },
   "outputs": [
    {
     "name": "stdout",
     "output_type": "stream",
     "text": [
      "0         1.0\n",
      "48000     1.0\n",
      "96000     1.0\n",
      "144000    1.0\n",
      "192000    1.0\n",
      "240000    1.0\n",
      "288000    1.0\n",
      "336000    1.0\n",
      "384000    1.0\n",
      "432000    1.0\n",
      "dtype: float64\n"
     ]
    },
    {
     "data": {
      "image/png": "[encoded data removed]",
      "text/plain": [
       "<matplotlib.figure.Figure at 0x26a960d72b0>"
      ]
     },
     "metadata": {},
     "output_type": "display_data"
    }
   ],
   "source": [
    "import numpy as np\n",
    "import matplotlib.pyplot as plt\n",
    "import pandas as pd\n",
    "%matplotlib inline\n",
    "\n",
    "#samplerate = 48 kHz, period = 1 sec, signal_length = 10 sec\n",
    "fs = 48000\n",
    "period = fs\n",
    "length = period * 10 #10 sec\n",
    "\n",
    "#Create IT and show\n",
    "inpulse_train = np.arange(length) % period < 1\n",
    "inpulse_train = inpulse_train.astype(np.float)\n",
    "\n",
    "ser = pd.Series(inpulse_train)\n",
    "ser = ser[inpulse_train > 0]\n",
    "print(ser)\n",
    "\n",
    "plt.plot(range(inpulse_train.size), inpulse_train)\n",
    "plt.show()"
   ]
  },
  {
   "cell_type": "code",
   "execution_count": 2,
   "metadata": {
    "collapsed": false
   },
   "outputs": [
    {
     "name": "stdout",
     "output_type": "stream",
     "text": [
      "0         0.999969\n",
      "48000     0.999969\n",
      "96000     0.999969\n",
      "144000    0.999969\n",
      "192000    0.999969\n",
      "240000    0.999969\n",
      "288000    0.999969\n",
      "336000    0.999969\n",
      "384000    0.999969\n",
      "432000    0.999969\n",
      "dtype: float64\n"
     ]
    },
    {
     "data": {
      "image/png": "[encoded data removed]",
      "text/plain": [
       "<matplotlib.figure.Figure at 0x26a962f7518>"
      ]
     },
     "metadata": {},
     "output_type": "display_data"
    }
   ],
   "source": [
    "import soundfile as sf\n",
    "\n",
    "#save as wavefile\n",
    "sf.write(\"ImpulseTrain_fs48kHz_p1sec_len10sec.wav\", inpulse_train, int(fs))\n",
    "\n",
    "#load wav and show\n",
    "inpulse_wav, _ = sf.read(\"ImpulseTrain_fs48kHz_p1sec_len10sec.wav\")\n",
    "\n",
    "ser = pd.Series(inpulse_wav)\n",
    "ser = ser[inpulse_wav > 0]\n",
    "print(ser)\n",
    "\n",
    "plt.plot(range(inpulse_wav.size), inpulse_wav)\n",
    "plt.show()"
   ]
  },
  {
   "cell_type": "markdown",
   "metadata": {},
   "source": [
    "### IR rec conditions\n",
    "InputSignal: Impulse Train (freq. 1 Hz, fs 48 kHz, bit 16, len 10 sec, Mono)  \n",
    "OutSignal: Input(Mono) -> Thor Filter3 (L & R) -> Thor Delay -> Out (Stereo)\n",
    "\n",
    "![BackPanel](Fig\\BackPanel)\n",
    "![Looting](Fig\\Looting)\n",
    "\n",
    "### Analysis of \"TIME\" parameter dependence\n",
    "|Entry|TIME|F.BACK|RATE|AMT|D.WET|\n",
    "|:--:|:--:|:--:|:--:|:--:|:--:|\n",
    "|T_0|0|0|0.14|0|0|\n",
    "|T_1|0|0|0.14|0|127|\n",
    "|T_2|197|0|0.14|0|127|\n",
    "|T_3|402|0|0.14|0|127|\n",
    "|T_4|606|0|0.14|0|127|\n",
    "|T_5|803|0|0.14|0|127|\n",
    "\n",
    "![InpulseRec](Fig\\InpulseRec)"
   ]
  },
  {
   "cell_type": "code",
   "execution_count": 3,
   "metadata": {
    "collapsed": false
   },
   "outputs": [
    {
     "data": {
      "text/html": [
       "<div>\n",
       "<style>\n",
       "    .dataframe thead tr:only-child th {\n",
       "        text-align: right;\n",
       "    }\n",
       "\n",
       "    .dataframe thead th {\n",
       "        text-align: left;\n",
       "    }\n",
       "\n",
       "    .dataframe tbody tr th {\n",
       "        vertical-align: top;\n",
       "    }\n",
       "</style>\n",
       "<table border=\"1\" class=\"dataframe\">\n",
       "  <thead>\n",
       "    <tr style=\"text-align: right;\">\n",
       "      <th></th>\n",
       "      <th>msec</th>\n",
       "      <th>sample</th>\n",
       "    </tr>\n",
       "  </thead>\n",
       "  <tbody>\n",
       "    <tr>\n",
       "      <th>T_1</th>\n",
       "      <td>0</td>\n",
       "      <td>0.0</td>\n",
       "    </tr>\n",
       "    <tr>\n",
       "      <th>T_2</th>\n",
       "      <td>197</td>\n",
       "      <td>9456.0</td>\n",
       "    </tr>\n",
       "    <tr>\n",
       "      <th>T_3</th>\n",
       "      <td>402</td>\n",
       "      <td>19296.0</td>\n",
       "    </tr>\n",
       "    <tr>\n",
       "      <th>T_4</th>\n",
       "      <td>606</td>\n",
       "      <td>29088.0</td>\n",
       "    </tr>\n",
       "    <tr>\n",
       "      <th>T_5</th>\n",
       "      <td>803</td>\n",
       "      <td>38544.0</td>\n",
       "    </tr>\n",
       "  </tbody>\n",
       "</table>\n",
       "</div>"
      ],
      "text/plain": [
       "     msec   sample\n",
       "T_1     0      0.0\n",
       "T_2   197   9456.0\n",
       "T_3   402  19296.0\n",
       "T_4   606  29088.0\n",
       "T_5   803  38544.0"
      ]
     },
     "execution_count": 3,
     "metadata": {},
     "output_type": "execute_result"
    }
   ],
   "source": [
    "def msec_to_sample_fs48kHz(t_msec):\n",
    "    return t_msec / 1000.0 * 48000\n",
    "\n",
    "T_msec = [0, 197, 402, 606, 803]\n",
    "T_samp = [msec_to_sample_fs48kHz(x) for x in T_msec]\n",
    "\n",
    "index_label = [\"T_1\", \"T_2\", \"T_3\", \"T_4\", \"T_5\"]\n",
    "df = pd.DataFrame({\"msec\": T_msec, \"sample\": T_samp}, index = index_label)\n",
    "\n",
    "df"
   ]
  },
  {
   "cell_type": "markdown",
   "metadata": {},
   "source": [
    "#### Data plot"
   ]
  },
  {
   "cell_type": "code",
   "execution_count": 34,
   "metadata": {
    "collapsed": false
   },
   "outputs": [
    {
     "name": "stdout",
     "output_type": "stream",
     "text": [
      "48000\n"
     ]
    },
    {
     "data": {
      "image/png": "[encoded data removed]",
      "text/plain": [
       "<matplotlib.figure.Figure at 0x1878365b5c0>"
      ]
     },
     "metadata": {},
     "output_type": "display_data"
    }
   ],
   "source": [
    "import numpy as np\n",
    "import matplotlib.pyplot as plt\n",
    "import pandas as pd\n",
    "import soundfile as sf\n",
    "%matplotlib inline\n",
    "\n",
    "def extract_left_channel(stereo_wav, _):\n",
    "    return stereo_wav[:, 0] \n",
    "\n",
    "input_inpulse, fs = sf.read(\"ImpulseTrain_fs48kHz_p1sec_len10sec.wav\")\n",
    "T_data = []\n",
    "T_data.append(extract_left_channel(*sf.read(\"IR\\T_0.wav\")))\n",
    "T_data.append(extract_left_channel(*sf.read(\"IR\\T_1.wav\")))\n",
    "T_data.append(extract_left_channel(*sf.read(\"IR\\T_2.wav\")))\n",
    "T_data.append(extract_left_channel(*sf.read(\"IR\\T_3.wav\")))\n",
    "T_data.append(extract_left_channel(*sf.read(\"IR\\T_4.wav\")))\n",
    "T_data.append(extract_left_channel(*sf.read(\"IR\\T_5.wav\")))\n",
    "\n",
    "plt.figure(figsize = (16, 12))\n",
    "plt.plot(range(input_inpulse.size), input_inpulse, label = \"Input\")\n",
    "for num, data in enumerate(T_data):\n",
    "    label_name = \"T_\" + str(num)\n",
    "    plt.plot(range(data.size), data, label = label_name)\n",
    "plt.xlim(-fs, fs * 10)\n",
    "plt.legend()\n",
    "plt.show()"
   ]
  },
  {
   "cell_type": "code",
   "execution_count": 46,
   "metadata": {
    "collapsed": false
   },
   "outputs": [
    {
     "data": {
      "image/png": "[encoded data removed]",
      "text/plain": [
       "<matplotlib.figure.Figure at 0x187844ef550>"
      ]
     },
     "metadata": {},
     "output_type": "display_data"
    },
    {
     "data": {
      "text/html": [
       "<div>\n",
       "<style>\n",
       "    .dataframe thead tr:only-child th {\n",
       "        text-align: right;\n",
       "    }\n",
       "\n",
       "    .dataframe thead th {\n",
       "        text-align: left;\n",
       "    }\n",
       "\n",
       "    .dataframe tbody tr th {\n",
       "        vertical-align: top;\n",
       "    }\n",
       "</style>\n",
       "<table border=\"1\" class=\"dataframe\">\n",
       "  <thead>\n",
       "    <tr style=\"text-align: right;\">\n",
       "      <th></th>\n",
       "      <th>0</th>\n",
       "      <th>2</th>\n",
       "      <th>9448</th>\n",
       "      <th>9449</th>\n",
       "      <th>19275</th>\n",
       "      <th>19276</th>\n",
       "      <th>29102</th>\n",
       "      <th>29103</th>\n",
       "      <th>38551</th>\n",
       "      <th>38552</th>\n",
       "    </tr>\n",
       "  </thead>\n",
       "  <tbody>\n",
       "    <tr>\n",
       "      <th>0</th>\n",
       "      <td>0.999969</td>\n",
       "      <td>NaN</td>\n",
       "      <td>NaN</td>\n",
       "      <td>NaN</td>\n",
       "      <td>NaN</td>\n",
       "      <td>NaN</td>\n",
       "      <td>NaN</td>\n",
       "      <td>NaN</td>\n",
       "      <td>NaN</td>\n",
       "      <td>NaN</td>\n",
       "    </tr>\n",
       "    <tr>\n",
       "      <th>1</th>\n",
       "      <td>NaN</td>\n",
       "      <td>0.999969</td>\n",
       "      <td>NaN</td>\n",
       "      <td>NaN</td>\n",
       "      <td>NaN</td>\n",
       "      <td>NaN</td>\n",
       "      <td>NaN</td>\n",
       "      <td>NaN</td>\n",
       "      <td>NaN</td>\n",
       "      <td>NaN</td>\n",
       "    </tr>\n",
       "    <tr>\n",
       "      <th>2</th>\n",
       "      <td>NaN</td>\n",
       "      <td>NaN</td>\n",
       "      <td>0.207031</td>\n",
       "      <td>0.792938</td>\n",
       "      <td>NaN</td>\n",
       "      <td>NaN</td>\n",
       "      <td>NaN</td>\n",
       "      <td>NaN</td>\n",
       "      <td>NaN</td>\n",
       "      <td>NaN</td>\n",
       "    </tr>\n",
       "    <tr>\n",
       "      <th>3</th>\n",
       "      <td>NaN</td>\n",
       "      <td>NaN</td>\n",
       "      <td>NaN</td>\n",
       "      <td>NaN</td>\n",
       "      <td>0.457031</td>\n",
       "      <td>0.542938</td>\n",
       "      <td>NaN</td>\n",
       "      <td>NaN</td>\n",
       "      <td>NaN</td>\n",
       "      <td>NaN</td>\n",
       "    </tr>\n",
       "    <tr>\n",
       "      <th>4</th>\n",
       "      <td>NaN</td>\n",
       "      <td>NaN</td>\n",
       "      <td>NaN</td>\n",
       "      <td>NaN</td>\n",
       "      <td>NaN</td>\n",
       "      <td>NaN</td>\n",
       "      <td>0.832001</td>\n",
       "      <td>0.167969</td>\n",
       "      <td>NaN</td>\n",
       "      <td>NaN</td>\n",
       "    </tr>\n",
       "    <tr>\n",
       "      <th>5</th>\n",
       "      <td>NaN</td>\n",
       "      <td>NaN</td>\n",
       "      <td>NaN</td>\n",
       "      <td>NaN</td>\n",
       "      <td>NaN</td>\n",
       "      <td>NaN</td>\n",
       "      <td>NaN</td>\n",
       "      <td>NaN</td>\n",
       "      <td>0.976532</td>\n",
       "      <td>0.023438</td>\n",
       "    </tr>\n",
       "  </tbody>\n",
       "</table>\n",
       "</div>"
      ],
      "text/plain": [
       "      0         2         9448      9449      19275     19276     29102  \\\n",
       "0  0.999969       NaN       NaN       NaN       NaN       NaN       NaN   \n",
       "1       NaN  0.999969       NaN       NaN       NaN       NaN       NaN   \n",
       "2       NaN       NaN  0.207031  0.792938       NaN       NaN       NaN   \n",
       "3       NaN       NaN       NaN       NaN  0.457031  0.542938       NaN   \n",
       "4       NaN       NaN       NaN       NaN       NaN       NaN  0.832001   \n",
       "5       NaN       NaN       NaN       NaN       NaN       NaN       NaN   \n",
       "\n",
       "      29103     38551     38552  \n",
       "0       NaN       NaN       NaN  \n",
       "1       NaN       NaN       NaN  \n",
       "2       NaN       NaN       NaN  \n",
       "3       NaN       NaN       NaN  \n",
       "4  0.167969       NaN       NaN  \n",
       "5       NaN  0.976532  0.023438  "
      ]
     },
     "execution_count": 46,
     "metadata": {},
     "output_type": "execute_result"
    }
   ],
   "source": [
    "def extract_cycle(IR_list, cycle):\n",
    "    new_data_set = []\n",
    "    st = fs * cycle\n",
    "    en = st + fs\n",
    "    \n",
    "    for data in IR_list:\n",
    "        new_data_set.append(data[st : en])\n",
    "        \n",
    "    return new_data_set\n",
    "\n",
    "def extract_position_intensity(IR, threshold):\n",
    "    s = pd.Series(IR)\n",
    "    return s[IR > threshold] \n",
    "        \n",
    "    return new_data_set\n",
    "\n",
    "#第3周期のIRを抽出\n",
    "T_extract = extract_cycle(T_data, 3)\n",
    "\n",
    "for num, data in enumerate(T_extract):\n",
    "    label_name = \"T_\" + str(num)\n",
    "    plt.plot(range(data.size), data)\n",
    "\n",
    "plt.show()\n",
    "\n",
    "#0を除外して、整理\n",
    "T_ser = []\n",
    "for data in T_ext_third:\n",
    "    T_ser.append(extract_position_intensity(data, 0))\n",
    "\n",
    "df = pd.DataFrame(T_ser)\n",
    "df"
   ]
  },
  {
   "cell_type": "markdown",
   "metadata": {
    "collapsed": true
   },
   "source": [
    "### Measured vs calced delay value\n",
    "|Entry|mesured|calced|\n",
    "|:--:|:--:|:--:|\n",
    "|T_1|2.0|0.0|\n",
    "|T_2|9448.5|9456.0|\n",
    "|T_3|19275.5|19296.0|\n",
    "|T_4|29102.5|29088.0|\n",
    "|T_5|38551.5|38544.0|"
   ]
  }
 ],
 "metadata": {
  "kernelspec": {
   "display_name": "Python 3",
   "language": "python",
   "name": "python3"
  },
  "language_info": {
   "codemirror_mode": {
    "name": "ipython",
    "version": 3
   },
   "file_extension": ".py",
   "mimetype": "text/x-python",
   "name": "python",
   "nbconvert_exporter": "python",
   "pygments_lexer": "ipython3",
   "version": "3.6.0"
  }
 },
 "nbformat": 4,
 "nbformat_minor": 2
}
