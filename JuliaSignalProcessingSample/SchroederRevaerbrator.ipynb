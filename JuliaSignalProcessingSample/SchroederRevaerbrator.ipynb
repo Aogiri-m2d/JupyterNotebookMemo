{
 "cells": [
  {
   "cell_type": "markdown",
   "metadata": {
    "collapsed": true
   },
   "source": [
    "# Juliaで信号処理の練習\n",
    "## シュレーダー式リバーブ\n",
    "シュレーダーリバーブについては，こちらを参照[[Link]](http://www.ari-web.com/service/soft/reverb-2.htm)"
   ]
  },
  {
   "cell_type": "markdown",
   "metadata": {},
   "source": [
    "リングバッファを使いたいので[DataStructures.jl](https://github.com/JuliaCollections/DataStructures.jl)を使用"
   ]
  },
  {
   "cell_type": "code",
   "execution_count": 1,
   "metadata": {
    "collapsed": false
   },
   "outputs": [],
   "source": [
    "using DataStructures"
   ]
  },
  {
   "cell_type": "markdown",
   "metadata": {},
   "source": [
    "フィードバックコムフィルタとオールパスフィルタを用意  \n",
    "パラメータの種類は共通で伝達関数が違うだけなので，1種類のパラメータ保持用の構造体とそれを受ける2種類の関数を作る．"
   ]
  },
  {
   "cell_type": "code",
   "execution_count": 2,
   "metadata": {
    "collapsed": false
   },
   "outputs": [],
   "source": [
    "struct FilterState{T}\n",
    "    inbuff::CircularBuffer{T}\n",
    "    outbuff::CircularBuffer{T}\n",
    "    τ::Int\n",
    "    g::Real\n",
    "\n",
    "    function FilterState{T}(τsec, g, fs) where T <: AbstractFloat\n",
    "        τ = floor(Int, τsec * fs)\n",
    "        inbuff = CircularBuffer{T}(τ)\n",
    "        outbuff = CircularBuffer{T}(τ)\n",
    "        while !isfull(inbuff)\n",
    "            push!(inbuff, 0.0)\n",
    "            push!(outbuff, 0.0)\n",
    "        end\n",
    "    \n",
    "        new{T}(inbuff, outbuff, τ, g)\n",
    "    end\n",
    "end"
   ]
  },
  {
   "cell_type": "code",
   "execution_count": 3,
   "metadata": {
    "collapsed": false
   },
   "outputs": [
    {
     "data": {
      "text/plain": [
       "fbcomb! (generic function with 1 method)"
      ]
     },
     "execution_count": 3,
     "metadata": {},
     "output_type": "execute_result"
    }
   ],
   "source": [
    "function fbcomb!(sys::FilterState, u::Real)\n",
    "    τ = sys.τ - 1\n",
    "    y = sys.inbuff[end - τ] + sys.g * sys.outbuff[end - τ]\n",
    "    push!(sys.inbuff, u)\n",
    "    push!(sys.outbuff, y)\n",
    "    \n",
    "    return y\n",
    "end"
   ]
  },
  {
   "cell_type": "code",
   "execution_count": 4,
   "metadata": {
    "collapsed": false
   },
   "outputs": [
    {
     "data": {
      "text/plain": [
       "allpass! (generic function with 1 method)"
      ]
     },
     "execution_count": 4,
     "metadata": {},
     "output_type": "execute_result"
    }
   ],
   "source": [
    "function allpass!(sys::FilterState, u::Real)\n",
    "    τ = sys.τ - 1\n",
    "    y = -sys.g * u + sys.inbuff[end - τ] + sys.g * sys.outbuff[end - τ]\n",
    "    push!(sys.inbuff, u)\n",
    "    push!(sys.outbuff, y)\n",
    "    return y\n",
    "end"
   ]
  },
  {
   "cell_type": "markdown",
   "metadata": {},
   "source": [
    "リバーブ自体はコム・オールパスフィルタの集まりなのでそれらをコンポジションで持たせる"
   ]
  },
  {
   "cell_type": "code",
   "execution_count": 5,
   "metadata": {
    "collapsed": true
   },
   "outputs": [],
   "source": [
    "struct Reverbrator\n",
    "    combfilts::Array{FilterState, 1}\n",
    "    apfilts::Array{FilterState, 1}\n",
    "    wet::Real\n",
    "end"
   ]
  },
  {
   "cell_type": "markdown",
   "metadata": {},
   "source": [
    "1サンプルだけ処理する場合"
   ]
  },
  {
   "cell_type": "code",
   "execution_count": 6,
   "metadata": {
    "collapsed": false
   },
   "outputs": [
    {
     "data": {
      "text/plain": [
       "process! (generic function with 1 method)"
      ]
     },
     "execution_count": 6,
     "metadata": {},
     "output_type": "execute_result"
    }
   ],
   "source": [
    "function process!(sys::Reverbrator, u::Real)\n",
    "    y = 0.0\n",
    "    \n",
    "    for cf in sys.combfilts\n",
    "        y += fbcomb!(cf, u) \n",
    "    end\n",
    "    \n",
    "    for ap in sys.apfilts\n",
    "        y = allpass!(ap, y)\n",
    "    end\n",
    "    \n",
    "    return y * sys.wet + u * (1.0 - sys.wet)\n",
    "end"
   ]
  },
  {
   "cell_type": "markdown",
   "metadata": {},
   "source": [
    "入力オーディオデータをまとめて処理する場合"
   ]
  },
  {
   "cell_type": "code",
   "execution_count": 7,
   "metadata": {
    "collapsed": false
   },
   "outputs": [
    {
     "data": {
      "text/plain": [
       "process! (generic function with 2 methods)"
      ]
     },
     "execution_count": 7,
     "metadata": {},
     "output_type": "execute_result"
    }
   ],
   "source": [
    "function process!(sys::Reverbrator, u::Array{T, 1}) where T <: Real\n",
    "    y = Array{T}(length(u))\n",
    "    \n",
    "    for i in 1:length(u)\n",
    "        y[i] = process!(sys, u[i])\n",
    "    end\n",
    "    \n",
    "    return y\n",
    "end"
   ]
  },
  {
   "cell_type": "code",
   "execution_count": 8,
   "metadata": {
    "collapsed": false
   },
   "outputs": [
    {
     "data": {
      "text/plain": [
       "Reverbrator(FilterState[FilterState{Float64}([0.0, 0.0, 0.0, 0.0, 0.0, 0.0, 0.0, 0.0, 0.0, 0.0  …  0.0, 0.0, 0.0, 0.0, 0.0, 0.0, 0.0, 0.0, 0.0, 0.0], [0.0, 0.0, 0.0, 0.0, 0.0, 0.0, 0.0, 0.0, 0.0, 0.0  …  0.0, 0.0, 0.0, 0.0, 0.0, 0.0, 0.0, 0.0, 0.0, 0.0], 1912, 0.87), FilterState{Float64}([0.0, 0.0, 0.0, 0.0, 0.0, 0.0, 0.0, 0.0, 0.0, 0.0  …  0.0, 0.0, 0.0, 0.0, 0.0, 0.0, 0.0, 0.0, 0.0, 0.0], [0.0, 0.0, 0.0, 0.0, 0.0, 0.0, 0.0, 0.0, 0.0, 0.0  …  0.0, 0.0, 0.0, 0.0, 0.0, 0.0, 0.0, 0.0, 0.0, 0.0], 1732, 0.88), FilterState{Float64}([0.0, 0.0, 0.0, 0.0, 0.0, 0.0, 0.0, 0.0, 0.0, 0.0  …  0.0, 0.0, 0.0, 0.0, 0.0, 0.0, 0.0, 0.0, 0.0, 0.0], [0.0, 0.0, 0.0, 0.0, 0.0, 0.0, 0.0, 0.0, 0.0, 0.0  …  0.0, 0.0, 0.0, 0.0, 0.0, 0.0, 0.0, 0.0, 0.0, 0.0], 1596, 0.89), FilterState{Float64}([0.0, 0.0, 0.0, 0.0, 0.0, 0.0, 0.0, 0.0, 0.0, 0.0  …  0.0, 0.0, 0.0, 0.0, 0.0, 0.0, 0.0, 0.0, 0.0, 0.0], [0.0, 0.0, 0.0, 0.0, 0.0, 0.0, 0.0, 0.0, 0.0, 0.0  …  0.0, 0.0, 0.0, 0.0, 0.0, 0.0, 0.0, 0.0, 0.0, 0.0], 1447, 0.9)], FilterState[FilterState{Float64}([0.0, 0.0, 0.0, 0.0, 0.0, 0.0, 0.0, 0.0, 0.0, 0.0  …  0.0, 0.0, 0.0, 0.0, 0.0, 0.0, 0.0, 0.0, 0.0, 0.0], [0.0, 0.0, 0.0, 0.0, 0.0, 0.0, 0.0, 0.0, 0.0, 0.0  …  0.0, 0.0, 0.0, 0.0, 0.0, 0.0, 0.0, 0.0, 0.0, 0.0], 240, 0.7), FilterState{Float64}([0.0, 0.0, 0.0, 0.0, 0.0, 0.0, 0.0, 0.0, 0.0, 0.0  …  0.0, 0.0, 0.0, 0.0, 0.0, 0.0, 0.0, 0.0, 0.0, 0.0], [0.0, 0.0, 0.0, 0.0, 0.0, 0.0, 0.0, 0.0, 0.0, 0.0  …  0.0, 0.0, 0.0, 0.0, 0.0, 0.0, 0.0, 0.0, 0.0, 0.0], 81, 0.7)], 1.0)"
      ]
     },
     "execution_count": 8,
     "metadata": {},
     "output_type": "execute_result"
    }
   ],
   "source": [
    "fs = 48000.0\n",
    "τcomb = [39.85, 36.10, 33.27, 30.15] / 1000.0\n",
    "gcomb = [0.87, 0.88, 0.89, 0.90]\n",
    "combfilts = [FilterState{Float64}(τ, g, fs) for (τ, g) in zip(τcomb, gcomb)]\n",
    "\n",
    "τap = [5.0, 1.7] / 1000.0\n",
    "gap = [0.7, 0.7]\n",
    "apfilts = [FilterState{Float64}(τ, g, fs) for (τ, g) in zip(τap, gap)]\n",
    "\n",
    "reverb = Reverbrator(combfilts, apfilts, 1.0)"
   ]
  },
  {
   "cell_type": "code",
   "execution_count": 9,
   "metadata": {
    "collapsed": false
   },
   "outputs": [
    {
     "data": {
      "text/plain": [
       "96000-element Array{Float64,1}:\n",
       "  0.0        \n",
       "  0.0        \n",
       "  0.0        \n",
       "  0.0        \n",
       "  0.0        \n",
       "  0.0        \n",
       "  0.0        \n",
       "  0.0        \n",
       "  0.0        \n",
       "  0.0        \n",
       "  0.0        \n",
       "  0.0        \n",
       "  0.0        \n",
       "  ⋮          \n",
       " -6.3667e-5  \n",
       " -2.06103e-5 \n",
       "  1.01959e-6 \n",
       "  4.92799e-10\n",
       "  3.33438e-8 \n",
       "  4.99598e-7 \n",
       "  2.41092e-10\n",
       "  1.63385e-8 \n",
       "  2.44803e-7 \n",
       "  1.18226e-10\n",
       "  8.00587e-9 \n",
       " -1.15144e-7 "
      ]
     },
     "execution_count": 9,
     "metadata": {},
     "output_type": "execute_result"
    }
   ],
   "source": [
    "N = fs*2\n",
    "δ(n) = n == 0.0 ? 1.0 : 0.0\n",
    "inbuff = [δ(i) for i in 0:N-1]\n",
    "outbuff = process!(reverb, inbuff)"
   ]
  },
  {
   "cell_type": "code",
   "execution_count": 11,
   "metadata": {
    "collapsed": false
   },
   "outputs": [
    {
     "data": {
      "text/plain": [
       "Plots.PyPlotBackend()"
      ]
     },
     "execution_count": 11,
     "metadata": {},
     "output_type": "execute_result"
    }
   ],
   "source": [
    "using Plots\n",
    "pyplot()"
   ]
  },
  {
   "cell_type": "code",
   "execution_count": 12,
   "metadata": {
    "collapsed": false
   },
   "outputs": [
    {
     "data": {
      "text/html": [
       "<img src=\"data:image/png;base64,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\" />"
      ]
     },
     "execution_count": 12,
     "metadata": {},
     "output_type": "execute_result"
    }
   ],
   "source": [
    "t = [i / fs for i in 0 : length(outbuff - 1)]\n",
    "plot(t, outbuff, title = \"Inpulse response\", xlabel = \"time (sec)\", ylabel = \"Amplitude\")"
   ]
  }
 ],
 "metadata": {
  "kernelspec": {
   "display_name": "Julia 0.6.2",
   "language": "julia",
   "name": "julia-0.6"
  },
  "language_info": {
   "file_extension": ".jl",
   "mimetype": "application/julia",
   "name": "julia",
   "version": "0.6.2"
  }
 },
 "nbformat": 4,
 "nbformat_minor": 2
}
