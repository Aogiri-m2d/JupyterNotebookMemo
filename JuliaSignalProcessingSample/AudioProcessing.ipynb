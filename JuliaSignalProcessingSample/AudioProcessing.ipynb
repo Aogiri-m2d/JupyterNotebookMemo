{
 "cells": [
  {
   "cell_type": "code",
   "execution_count": 2,
   "metadata": {
    "collapsed": false
   },
   "outputs": [],
   "source": [
    "using SampledSignals\n",
    "using PortAudio"
   ]
  },
  {
   "cell_type": "code",
   "execution_count": null,
   "metadata": {
    "collapsed": false
   },
   "outputs": [],
   "source": [
    "stream = PortAudio.PortAudioStream(1, 1, synced=true)"
   ]
  },
  {
   "cell_type": "code",
   "execution_count": 4,
   "metadata": {
    "collapsed": false
   },
   "outputs": [],
   "source": [
    "L = stream.blocksize\n",
    "fs = stream.samplerate\n",
    "n = 0\n",
    "for i in 1:100\n",
    "    inbuff = read(stream, L)\n",
    "    audiodata = convert(Array{Float32}, inbuff.data[:, 1])\n",
    "    \n",
    "    for j in 1:L\n",
    "        audiodata[j] = audiodata[j]*sin(2π*5.0*n/fs)\n",
    "        n += 1\n",
    "    end\n",
    "    \n",
    "    outbuff = SampledSignals.SampleBuf(audiodata, fs)\n",
    "    write(stream, outbuff, L)\n",
    "end"
   ]
  }
 ],
 "metadata": {
  "kernelspec": {
   "display_name": "Julia 0.6.2",
   "language": "julia",
   "name": "julia-0.6"
  },
  "language_info": {
   "file_extension": ".jl",
   "mimetype": "application/julia",
   "name": "julia",
   "version": "0.6.2"
  }
 },
 "nbformat": 4,
 "nbformat_minor": 2
}
