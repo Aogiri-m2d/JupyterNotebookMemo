{
 "cells": [
  {
   "cell_type": "markdown",
   "metadata": {},
   "source": [
    "# ReasonデバイスのIRがとりたい\n",
    "\n",
    "Reasonの組み込みEffectのIRを計測したい  \n",
    "とりあえず、計測方法を検討"
   ]
  },
  {
   "cell_type": "markdown",
   "metadata": {},
   "source": [
    "# 入力用の単位インパルス列の生成"
   ]
  },
  {
   "cell_type": "code",
   "execution_count": 1,
   "metadata": {
    "collapsed": false
   },
   "outputs": [
    {
     "data": {
      "image/png": "[encoded data removed]",
      "text/plain": [
       "<matplotlib.figure.Figure at 0x211fd848cf8>"
      ]
     },
     "metadata": {},
     "output_type": "display_data"
    }
   ],
   "source": [
    "import numpy as np\n",
    "import soundfile as sf\n",
    "import matplotlib.pyplot as plt\n",
    "%matplotlib inline\n",
    "\n",
    "#sampleRate_48 kHz, 周期_1 sec のインパルス数列10 sec分作成\n",
    "t_sec = 10\n",
    "fs = 48000\n",
    "period = 48000\n",
    "n = np.arange(0, fs * t_sec)\n",
    "IT = n % period < 1\n",
    "IT = IT.astype(np.float)\n",
    "\n",
    "#グラフで確認\n",
    "plt.plot(n, IT)\n",
    "plt.xlim(-period, period * 5)\n",
    "plt.show()"
   ]
  },
  {
   "cell_type": "code",
   "execution_count": 2,
   "metadata": {
    "collapsed": false
   },
   "outputs": [],
   "source": [
    "#wavefileに出力\n",
    "sf.write(\"ImpulseTrain_fs48kHz_p1sec_len10sec.wav\", IT, fs)"
   ]
  },
  {
   "cell_type": "markdown",
   "metadata": {},
   "source": [
    "# Reason上でのインパルスファイルの読み込みと書き出し\n",
    "Reasonで作成したインパルオーディオファイルを読み込む  \n",
    "  \n",
    "![ImpulseLoad](Fig\\ImpulseLoad.png)  \n",
    "  \n",
    "組み込みデバイスThorを経由させる  \n",
    "  \n",
    "![RackBack](Fig\\RackBack.png)\n",
    "![RackFront](Fig\\RackFront.png)  \n",
    "  \n",
    "waveに書き出す  \n",
    "  \n",
    "![BounceSetting](Fig\\BounceSetting.png)\n",
    "  \n",
    "ディザーあり・なしの2パターンで書き出したファイルを読み込んで,  \n",
    "入力インパルスと比較 (ReasonとThorを経由することで信号劣化が無いか確認)  \n"
   ]
  },
  {
   "cell_type": "code",
   "execution_count": 5,
   "metadata": {
    "collapsed": false
   },
   "outputs": [
    {
     "data": {
      "image/png": "[encoded data removed]",
      "text/plain": [
       "<matplotlib.figure.Figure at 0x211a02a5668>"
      ]
     },
     "metadata": {},
     "output_type": "display_data"
    }
   ],
   "source": [
    "#wavefileの読み込み\n",
    "input_sig, _ = sf.read(\"ImpulseTrain_fs48kHz_p1sec_len10sec.wav\")\n",
    "none_dither, _ = sf.read(\"ReasonBounce\\Bypass_fs48kHz_p1sec_len10sec_16bit.wav\")\n",
    "processed_dither, _ = sf.read(\"ReasonBounce\\Bypass_fs48kHz_p1sec_len10sec_16bit_dither.wav\")\n",
    "\n",
    "#Reasonからの書き出しはStereo, L Channelのみのndarrayに変換\n",
    "none_dither_L = none_dither[:input_sig.size, 0]\n",
    "processed_dither_L = processed_dither[:input_sig.size, 0]\n",
    "\n",
    "#グラフに出力\n",
    "plt.figure(figsize = (12, 8))\n",
    "plt.scatter(np.arange(input_sig.size), input_sig, marker = \".\", label = \"Input\")\n",
    "plt.scatter(np.arange(none_dither_L.size), none_dither_L, marker = \".\", label = \"None_dither\")\n",
    "plt.scatter(np.arange(processed_dither_L.size), processed_dither_L, marker = \".\", label = \"Processed_dither\")\n",
    "plt.xlim(-100, 48000 * 5)\n",
    "plt.legend()\n",
    "plt.show()"
   ]
  },
  {
   "cell_type": "markdown",
   "metadata": {},
   "source": [
    "Reasonに取り込んで、書き出しても特に大きく波形が崩れることはなさそう"
   ]
  }
 ],
 "metadata": {
  "celltoolbar": "Raw Cell Format",
  "kernelspec": {
   "display_name": "Python 3",
   "language": "python",
   "name": "python3"
  },
  "language_info": {
   "codemirror_mode": {
    "name": "ipython",
    "version": 3
   },
   "file_extension": ".py",
   "mimetype": "text/x-python",
   "name": "python",
   "nbconvert_exporter": "python",
   "pygments_lexer": "ipython3",
   "version": "3.6.0"
  }
 },
 "nbformat": 4,
 "nbformat_minor": 2
}
